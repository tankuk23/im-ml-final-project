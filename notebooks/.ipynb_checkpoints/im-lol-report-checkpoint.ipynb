{
 "cells": [
  {
   "cell_type": "markdown",
   "metadata": {},
   "source": [
    "# Report into Analysis on The League of Legends Dataset"
   ]
  },
  {
   "cell_type": "markdown",
   "metadata": {},
   "source": [
    "by Iain Miller"
   ]
  },
  {
   "cell_type": "markdown",
   "metadata": {},
   "source": [
    "Dataset: https://www.kaggle.com/gyejr95/league-of-legends-challenger-ranked-games2020#Challenger_Ranked_Games.csv"
   ]
  },
  {
   "cell_type": "markdown",
   "metadata": {},
   "source": [
    "Before the dataset was examined a number of questions were posed as the basis for the investigation. This report is broken down along these questions, with some simpler visual observations at first, followed by some more questions related to modelling efforts on the data."
   ]
  },
  {
   "cell_type": "markdown",
   "metadata": {},
   "source": [
    "## Simple Questions"
   ]
  },
  {
   "cell_type": "markdown",
   "metadata": {},
   "source": [
    "### Does the colour of the team make any difference to win chances? \n",
    "\n",
    "#### Hypothesis: No, there should be no difference depending on which colour is assigned"
   ]
  },
  {
   "cell_type": "markdown",
   "metadata": {},
   "source": [
    "Plotting the number of wins by each team across the different series is shown in the image below:\n",
    "![Plot of Number Wins by Colour in League of Legends](../reports/image/lol-wins-by-colour.png \"Plot of Number of Wins by Colour in League of Legends\")"
   ]
  },
  {
   "cell_type": "markdown",
   "metadata": {},
   "source": [
    "**Conclusion:** As expected there is very little difference in the number of wins in any of the Series by player colour."
   ]
  },
  {
   "cell_type": "markdown",
   "metadata": {},
   "source": [
    "### Is there a correlation between Gold earned and winning? \n",
    "#### Hypothesis: Yes, if you win you should get more gold"
   ]
  },
  {
   "cell_type": "markdown",
   "metadata": {},
   "source": [
    "Looking first into the gold won by both players (see below) that Winners and Losers earn roughly the same amount of Gold\n",
    "\n",
    "![A look at gold earning between two players based on victory](../reports/image/lol-winner-v-loser-gold.png \"Gold for Winner versus Losers\")"
   ]
  },
  {
   "cell_type": "markdown",
   "metadata": {},
   "source": [
    "Investigating this further showed that there is some correlation between the duration of a game and the amount of Gold earned:\n",
    "![Gold Earned by Duration of Game for the Winner](../reports/image/lol-duration-v-gold.png \"Gold Earned by Duration of Game for the Winner\")"
   ]
  },
  {
   "cell_type": "markdown",
   "metadata": {},
   "source": [
    "As can be seen there are three general groupings and breaking these down by the Average Level of the Winners Champions shows that, generally, the greater the levels of the champions the more Gold is earned:\n",
    "![Gold Earned vs Duration for Winner by Average Champion Level](../reports/image/lol-duration-v-gold-by-level.png \"Gold Earned vs Duration for Winner by Average Champion Level\")"
   ]
  },
  {
   "cell_type": "markdown",
   "metadata": {},
   "source": [
    "Having said this the follow graph shows that Winning does not always mean that you will earn the most graph but most of the time it does:\n",
    "![Winner's Gold vs Difference to Loser's Gold](../reports/image/lol-winnergol-v-diff-by-level.png \"Winner's Gold vs Difference to Loser's Gold\")"
   ]
  },
  {
   "cell_type": "markdown",
   "metadata": {},
   "source": [
    "**Conclusion:** Duration of game and level of champions is more important in terms of earning more gold than winning."
   ]
  },
  {
   "cell_type": "markdown",
   "metadata": {},
   "source": [
    "### Do Games between Grand Masters run longer than Master and then Challenger games? \n",
    "#### Hypothesis: The higher the ability the longer the games last"
   ]
  },
  {
   "cell_type": "markdown",
   "metadata": {},
   "source": [
    "Looking at a boxplot of the duration of games for each of the series shows the same pattern, with the median values being within 20s of each other:\n",
    "![Boxplot of Game Duration for each series](../reports/image/lol-series-v-duration.png \"Boxplot of Game Duration for each series\")\n"
   ]
  },
  {
   "cell_type": "markdown",
   "metadata": {},
   "source": [
    "**Conclusion:** There is no real difference in how long games take depending on the ability of the players."
   ]
  },
  {
   "cell_type": "markdown",
   "metadata": {},
   "source": [
    "## Modelling the Winners"
   ]
  },
  {
   "cell_type": "markdown",
   "metadata": {},
   "source": [
    "The Challenger series data was taken and a Random Forest Classifier created from the data, here is some observations on the model outcome, lead by the initial questions."
   ]
  },
  {
   "cell_type": "markdown",
   "metadata": {},
   "source": [
    "### Is there a particular element that leads to more wins?"
   ]
  },
  {
   "cell_type": "markdown",
   "metadata": {},
   "source": [
    "Looking at the importance graph generated by rfpimp it becomes clear that there is one very important factor (the death count for a team) and several other less important factors (the number of Tower Kills attained, the number of champion kills - this is a corollory factor to the opponents death count - and killing Inhibitors). Game Duration is also flagged as a minor factor, but this could be an artifact that affects the other kill totals - the longer the game goes on the more kills there are likely to be.\n",
    "![Challenger Model Importance Factors](../reports/image/lol-challenger-rfpimp-importances.png \"Challenger Model Importance Factors\")"
   ]
  },
  {
   "cell_type": "markdown",
   "metadata": {},
   "source": [
    "Interestingly First Blood is one of the least import factors but FirstInhibitor is a minor factor. So this would suggest that clearing inhibitors is a key element of doing well."
   ]
  },
  {
   "cell_type": "markdown",
   "metadata": {},
   "source": [
    "**Conclusion:** Unsurprisingly, not dying is key to doing well and taking out Towers and Inhibitors helps you progress."
   ]
  },
  {
   "cell_type": "markdown",
   "metadata": {},
   "source": [
    "### Given stats for a team can you predict whether it won or not?"
   ]
  },
  {
   "cell_type": "markdown",
   "metadata": {},
   "source": [
    "Using the model discussed above the following metrics were derived from test data:\n",
    "\n",
    "| Series     | Accuracy | Precision | Recall  | F1      |\n",
    "|------------|----------|-----------|---------|---------|\n",
    "| Challenger | 0.97545  | 0.96864   | 0.98280 | 0.97567 |"
   ]
  },
  {
   "cell_type": "markdown",
   "metadata": {},
   "source": [
    "As can be seen the model is very good, but this could be because of the strong Death and Kill factors. If we take these out we get the metrics below:\n",
    "\n",
    "| Series     | Accuracy | Precision | Recall  | F1      |\n",
    "|------------|----------|-----------|---------|---------|\n",
    "| Challenger | 0.96120  | 0.95507   | 0.96807 | 0.96153 |\n",
    "\n",
    "So slightly worse but not much."
   ]
  },
  {
   "cell_type": "markdown",
   "metadata": {},
   "source": [
    "**Conclusion:** Even taking out the winning conditions it is possible to get a good model for predicting battle outcomes."
   ]
  },
  {
   "cell_type": "markdown",
   "metadata": {},
   "source": [
    "### What are the differences in the above between Challengers, Masters and Grand Masters?"
   ]
  },
  {
   "cell_type": "markdown",
   "metadata": {},
   "source": [
    "Doing the same as the above (without the Death and Kills stats) you get the following metrics for the Master and Grand Master series:\n",
    "\n",
    "| Series      | Accuracy | Precision | Recall  | F1      |\n",
    "|-------------|----------|-----------|---------|---------|\n",
    "| Challenger  | 0.96120  | 0.95507   | 0.96807 | 0.96153 |\n",
    "| Master      | 0.96236  | 0.95642   | 0.96847 | 0.96240 |\n",
    "| GrandMaster | 0.96234  | 0.95798   | 0.96737 | 0.96265 |"
   ]
  },
  {
   "cell_type": "markdown",
   "metadata": {},
   "source": [
    "**Conclusions:** There isn't much difference in the behaviour of the models depending of the series studied."
   ]
  },
  {
   "cell_type": "code",
   "execution_count": null,
   "metadata": {},
   "outputs": [],
   "source": []
  }
 ],
 "metadata": {
  "kernelspec": {
   "display_name": "Python 3",
   "language": "python",
   "name": "python3"
  },
  "language_info": {
   "codemirror_mode": {
    "name": "ipython",
    "version": 3
   },
   "file_extension": ".py",
   "mimetype": "text/x-python",
   "name": "python",
   "nbconvert_exporter": "python",
   "pygments_lexer": "ipython3",
   "version": "3.7.6"
  }
 },
 "nbformat": 4,
 "nbformat_minor": 4
}
