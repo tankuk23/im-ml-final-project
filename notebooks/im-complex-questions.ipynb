{
 "cells": [
  {
   "cell_type": "markdown",
   "metadata": {},
   "source": [
    "# Complex Questions"
   ]
  },
  {
   "cell_type": "markdown",
   "metadata": {},
   "source": [
    "## Is there a particular element that leads to more wins?"
   ]
  },
  {
   "cell_type": "code",
   "execution_count": 6,
   "metadata": {},
   "outputs": [
    {
     "name": "stdout",
     "output_type": "stream",
     "text": [
      "Collecting rfpimp\n",
      "  Downloading rfpimp-1.3.5.tar.gz (10 kB)\n",
      "Collecting stratx>=0.2\n",
      "  Downloading stratx-0.3.tar.gz (148 kB)\n",
      "\u001b[K     |████████████████████████████████| 148 kB 8.1 MB/s eta 0:00:01\n",
      "\u001b[?25hRequirement already satisfied: numpy in /Users/iainmiller/opt/anaconda3/lib/python3.7/site-packages (from rfpimp) (1.18.1)\n",
      "Requirement already satisfied: pandas in /Users/iainmiller/opt/anaconda3/lib/python3.7/site-packages (from rfpimp) (1.0.1)\n",
      "Requirement already satisfied: scikit-learn in /Users/iainmiller/opt/anaconda3/lib/python3.7/site-packages (from rfpimp) (0.22.1)\n",
      "Requirement already satisfied: matplotlib in /Users/iainmiller/opt/anaconda3/lib/python3.7/site-packages (from rfpimp) (3.1.3)\n",
      "Collecting sklearn\n",
      "  Downloading sklearn-0.0.tar.gz (1.1 kB)\n",
      "Requirement already satisfied: scipy in /Users/iainmiller/opt/anaconda3/lib/python3.7/site-packages (from stratx>=0.2->rfpimp) (1.4.1)\n",
      "Requirement already satisfied: numba in /Users/iainmiller/opt/anaconda3/lib/python3.7/site-packages (from stratx>=0.2->rfpimp) (0.48.0)\n",
      "Collecting colour\n",
      "  Downloading colour-0.1.5-py2.py3-none-any.whl (23 kB)\n",
      "Requirement already satisfied: python-dateutil>=2.6.1 in /Users/iainmiller/opt/anaconda3/lib/python3.7/site-packages (from pandas->rfpimp) (2.8.1)\n",
      "Requirement already satisfied: pytz>=2017.2 in /Users/iainmiller/opt/anaconda3/lib/python3.7/site-packages (from pandas->rfpimp) (2019.3)\n",
      "Requirement already satisfied: joblib>=0.11 in /Users/iainmiller/opt/anaconda3/lib/python3.7/site-packages (from scikit-learn->rfpimp) (0.14.1)\n",
      "Requirement already satisfied: pyparsing!=2.0.4,!=2.1.2,!=2.1.6,>=2.0.1 in /Users/iainmiller/opt/anaconda3/lib/python3.7/site-packages (from matplotlib->rfpimp) (2.4.6)\n",
      "Requirement already satisfied: kiwisolver>=1.0.1 in /Users/iainmiller/opt/anaconda3/lib/python3.7/site-packages (from matplotlib->rfpimp) (1.1.0)\n",
      "Requirement already satisfied: cycler>=0.10 in /Users/iainmiller/opt/anaconda3/lib/python3.7/site-packages (from matplotlib->rfpimp) (0.10.0)\n",
      "Requirement already satisfied: llvmlite<0.32.0,>=0.31.0dev0 in /Users/iainmiller/opt/anaconda3/lib/python3.7/site-packages (from numba->stratx>=0.2->rfpimp) (0.31.0)\n",
      "Requirement already satisfied: setuptools in /Users/iainmiller/opt/anaconda3/lib/python3.7/site-packages (from numba->stratx>=0.2->rfpimp) (46.0.0.post20200309)\n",
      "Requirement already satisfied: six>=1.5 in /Users/iainmiller/opt/anaconda3/lib/python3.7/site-packages (from python-dateutil>=2.6.1->pandas->rfpimp) (1.14.0)\n",
      "Building wheels for collected packages: rfpimp, stratx, sklearn\n",
      "  Building wheel for rfpimp (setup.py) ... \u001b[?25ldone\n",
      "\u001b[?25h  Created wheel for rfpimp: filename=rfpimp-1.3.5-py3-none-any.whl size=10257 sha256=e45e47becdd5bb035515e3014645c2246ed17deaba0a9ddebe6217063bb881bc\n",
      "  Stored in directory: /Users/iainmiller/Library/Caches/pip/wheels/15/88/ae/4e8850abc5088fd7e50cc7f869450d6085a0ec6d245adf8874\n",
      "  Building wheel for stratx (setup.py) ... \u001b[?25ldone\n",
      "\u001b[?25h  Created wheel for stratx: filename=stratx-0.3-py3-none-any.whl size=22698 sha256=3700930903255605e7f37bf5338f82cd7969df37d1254fe7dac6172c0f953dbd\n",
      "  Stored in directory: /Users/iainmiller/Library/Caches/pip/wheels/f5/79/4f/4eee9c66cb2bf45e2067aa527c9bde3938f58e414ffdb213ec\n",
      "  Building wheel for sklearn (setup.py) ... \u001b[?25ldone\n",
      "\u001b[?25h  Created wheel for sklearn: filename=sklearn-0.0-py2.py3-none-any.whl size=1315 sha256=7bef5df340873eabfbcb3bd02c6fa1739561ee3dce8d48c3eedc814ff5509bfe\n",
      "  Stored in directory: /Users/iainmiller/Library/Caches/pip/wheels/46/ef/c3/157e41f5ee1372d1be90b09f74f82b10e391eaacca8f22d33e\n",
      "Successfully built rfpimp stratx sklearn\n",
      "Installing collected packages: sklearn, colour, stratx, rfpimp\n",
      "Successfully installed colour-0.1.5 rfpimp-1.3.5 sklearn-0.0 stratx-0.3\n"
     ]
    }
   ],
   "source": [
    "!pip install rfpimp"
   ]
  },
  {
   "cell_type": "code",
   "execution_count": 7,
   "metadata": {},
   "outputs": [
    {
     "name": "stderr",
     "output_type": "stream",
     "text": [
      "/Users/iainmiller/opt/anaconda3/lib/python3.7/site-packages/sklearn/utils/deprecation.py:144: FutureWarning: The sklearn.ensemble.forest module is  deprecated in version 0.22 and will be removed in version 0.24. The corresponding classes / functions should instead be imported from sklearn.ensemble. Anything that cannot be imported from sklearn.ensemble is now part of the private API.\n",
      "  warnings.warn(message, FutureWarning)\n"
     ]
    }
   ],
   "source": [
    "import pandas as pd\n",
    "from sklearn.impute import SimpleImputer\n",
    "import numpy as np\n",
    "from sklearn.ensemble import RandomForestClassifier\n",
    "from  sklearn.preprocessing import OrdinalEncoder\n",
    "from sklearn.tree import DecisionTreeClassifier\n",
    "from sklearn.model_selection import train_test_split\n",
    "from sklearn.model_selection import cross_validate\n",
    "from  sklearn.metrics import *\n",
    "import matplotlib.pyplot as plt\n",
    "from sklearn.preprocessing import StandardScaler\n",
    "from sklearn import tree\n",
    "from sklearn import model_selection\n",
    "import plotly.express as px\n",
    "import rfpimp"
   ]
  },
  {
   "cell_type": "code",
   "execution_count": 2,
   "metadata": {},
   "outputs": [
    {
     "name": "stderr",
     "output_type": "stream",
     "text": [
      "/Users/iainmiller/opt/anaconda3/lib/python3.7/site-packages/IPython/core/interactiveshell.py:3063: DtypeWarning: Columns (27) have mixed types.Specify dtype option on import or set low_memory=False.\n",
      "  interactivity=interactivity, compiler=compiler, result=result)\n"
     ]
    }
   ],
   "source": [
    "df = pd.read_csv(\"../data/stacked_challenger_stats.csv\")"
   ]
  },
  {
   "cell_type": "code",
   "execution_count": 3,
   "metadata": {},
   "outputs": [
    {
     "data": {
      "text/html": [
       "<div>\n",
       "<style scoped>\n",
       "    .dataframe tbody tr th:only-of-type {\n",
       "        vertical-align: middle;\n",
       "    }\n",
       "\n",
       "    .dataframe tbody tr th {\n",
       "        vertical-align: top;\n",
       "    }\n",
       "\n",
       "    .dataframe thead th {\n",
       "        text-align: right;\n",
       "    }\n",
       "</style>\n",
       "<table border=\"1\" class=\"dataframe\">\n",
       "  <thead>\n",
       "    <tr style=\"text-align: right;\">\n",
       "      <th></th>\n",
       "      <th>Unnamed: 0</th>\n",
       "      <th>gameId</th>\n",
       "      <th>gameDuraton</th>\n",
       "      <th>Wins</th>\n",
       "      <th>FirstBlood</th>\n",
       "      <th>FirstTower</th>\n",
       "      <th>FirstBaron</th>\n",
       "      <th>FirstDragon</th>\n",
       "      <th>FirstInhibitor</th>\n",
       "      <th>DragonKills</th>\n",
       "      <th>...</th>\n",
       "      <th>ChampionDamageDealt</th>\n",
       "      <th>TotalGold</th>\n",
       "      <th>TotalMinionKills</th>\n",
       "      <th>TotalLevel</th>\n",
       "      <th>AvgLevel</th>\n",
       "      <th>JungleMinionKills</th>\n",
       "      <th>KillingSpree</th>\n",
       "      <th>TotalHeal</th>\n",
       "      <th>ObjectDamageDealt</th>\n",
       "      <th>Colour</th>\n",
       "    </tr>\n",
       "  </thead>\n",
       "  <tbody>\n",
       "    <tr>\n",
       "      <th>0</th>\n",
       "      <td>0</td>\n",
       "      <td>4247155821</td>\n",
       "      <td>1317</td>\n",
       "      <td>1</td>\n",
       "      <td>0</td>\n",
       "      <td>0</td>\n",
       "      <td>0</td>\n",
       "      <td>1</td>\n",
       "      <td>0</td>\n",
       "      <td>2</td>\n",
       "      <td>...</td>\n",
       "      <td>60243</td>\n",
       "      <td>41072</td>\n",
       "      <td>531</td>\n",
       "      <td>63</td>\n",
       "      <td>12.6</td>\n",
       "      <td>111</td>\n",
       "      <td>3</td>\n",
       "      <td>26397</td>\n",
       "      <td>45303</td>\n",
       "      <td>blue</td>\n",
       "    </tr>\n",
       "    <tr>\n",
       "      <th>1</th>\n",
       "      <td>1</td>\n",
       "      <td>4241538868</td>\n",
       "      <td>2344</td>\n",
       "      <td>1</td>\n",
       "      <td>1</td>\n",
       "      <td>1</td>\n",
       "      <td>1</td>\n",
       "      <td>1</td>\n",
       "      <td>1</td>\n",
       "      <td>2</td>\n",
       "      <td>...</td>\n",
       "      <td>134826</td>\n",
       "      <td>74955</td>\n",
       "      <td>831</td>\n",
       "      <td>83</td>\n",
       "      <td>16.6</td>\n",
       "      <td>252</td>\n",
       "      <td>5</td>\n",
       "      <td>37161</td>\n",
       "      <td>95287</td>\n",
       "      <td>blue</td>\n",
       "    </tr>\n",
       "    <tr>\n",
       "      <th>2</th>\n",
       "      <td>2</td>\n",
       "      <td>4241394461</td>\n",
       "      <td>1567</td>\n",
       "      <td>1</td>\n",
       "      <td>1</td>\n",
       "      <td>1</td>\n",
       "      <td>0</td>\n",
       "      <td>0</td>\n",
       "      <td>1</td>\n",
       "      <td>2</td>\n",
       "      <td>...</td>\n",
       "      <td>59839</td>\n",
       "      <td>52221</td>\n",
       "      <td>576</td>\n",
       "      <td>66</td>\n",
       "      <td>13.2</td>\n",
       "      <td>171</td>\n",
       "      <td>9</td>\n",
       "      <td>40925</td>\n",
       "      <td>51855</td>\n",
       "      <td>blue</td>\n",
       "    </tr>\n",
       "    <tr>\n",
       "      <th>3</th>\n",
       "      <td>3</td>\n",
       "      <td>4233113995</td>\n",
       "      <td>1588</td>\n",
       "      <td>1</td>\n",
       "      <td>1</td>\n",
       "      <td>1</td>\n",
       "      <td>1</td>\n",
       "      <td>0</td>\n",
       "      <td>1</td>\n",
       "      <td>2</td>\n",
       "      <td>...</td>\n",
       "      <td>102449</td>\n",
       "      <td>59163</td>\n",
       "      <td>613</td>\n",
       "      <td>71</td>\n",
       "      <td>14.2</td>\n",
       "      <td>157</td>\n",
       "      <td>7</td>\n",
       "      <td>28612</td>\n",
       "      <td>67404</td>\n",
       "      <td>blue</td>\n",
       "    </tr>\n",
       "    <tr>\n",
       "      <th>4</th>\n",
       "      <td>4</td>\n",
       "      <td>4231100932</td>\n",
       "      <td>1618</td>\n",
       "      <td>1</td>\n",
       "      <td>1</td>\n",
       "      <td>1</td>\n",
       "      <td>1</td>\n",
       "      <td>0</td>\n",
       "      <td>1</td>\n",
       "      <td>3</td>\n",
       "      <td>...</td>\n",
       "      <td>77245</td>\n",
       "      <td>57940</td>\n",
       "      <td>704</td>\n",
       "      <td>71</td>\n",
       "      <td>14.2</td>\n",
       "      <td>144</td>\n",
       "      <td>5</td>\n",
       "      <td>29726</td>\n",
       "      <td>66468</td>\n",
       "      <td>blue</td>\n",
       "    </tr>\n",
       "  </tbody>\n",
       "</table>\n",
       "<p>5 rows × 28 columns</p>\n",
       "</div>"
      ],
      "text/plain": [
       "   Unnamed: 0      gameId  gameDuraton  Wins  FirstBlood  FirstTower  \\\n",
       "0           0  4247155821         1317     1           0           0   \n",
       "1           1  4241538868         2344     1           1           1   \n",
       "2           2  4241394461         1567     1           1           1   \n",
       "3           3  4233113995         1588     1           1           1   \n",
       "4           4  4231100932         1618     1           1           1   \n",
       "\n",
       "   FirstBaron  FirstDragon  FirstInhibitor  DragonKills  ...  \\\n",
       "0           0            1               0            2  ...   \n",
       "1           1            1               1            2  ...   \n",
       "2           0            0               1            2  ...   \n",
       "3           1            0               1            2  ...   \n",
       "4           1            0               1            3  ...   \n",
       "\n",
       "   ChampionDamageDealt  TotalGold  TotalMinionKills  TotalLevel  AvgLevel  \\\n",
       "0                60243      41072               531          63      12.6   \n",
       "1               134826      74955               831          83      16.6   \n",
       "2                59839      52221               576          66      13.2   \n",
       "3               102449      59163               613          71      14.2   \n",
       "4                77245      57940               704          71      14.2   \n",
       "\n",
       "   JungleMinionKills  KillingSpree  TotalHeal  ObjectDamageDealt  Colour  \n",
       "0                111             3      26397              45303    blue  \n",
       "1                252             5      37161              95287    blue  \n",
       "2                171             9      40925              51855    blue  \n",
       "3                157             7      28612              67404    blue  \n",
       "4                144             5      29726              66468    blue  \n",
       "\n",
       "[5 rows x 28 columns]"
      ]
     },
     "execution_count": 3,
     "metadata": {},
     "output_type": "execute_result"
    }
   ],
   "source": [
    "df.head()"
   ]
  },
  {
   "cell_type": "code",
   "execution_count": 24,
   "metadata": {},
   "outputs": [],
   "source": [
    "X = df.drop([\"Wins\",\"Colour\", \"Unnamed: 0\"], axis=1)\n",
    "y = df[\"Wins\"]"
   ]
  },
  {
   "cell_type": "code",
   "execution_count": 25,
   "metadata": {},
   "outputs": [],
   "source": [
    "X_train, X_test, y_train, y_test = train_test_split(X, y, test_size=0.33, random_state=42)"
   ]
  },
  {
   "cell_type": "code",
   "execution_count": 26,
   "metadata": {},
   "outputs": [],
   "source": [
    "rfc = RandomForestClassifier()\n",
    "rfc_scores = cross_validate(rfc, X_train, y_train.values.ravel(), cv=5, scoring=('accuracy', 'average_precision', 'recall', 'f1'))"
   ]
  },
  {
   "cell_type": "code",
   "execution_count": 27,
   "metadata": {},
   "outputs": [
    {
     "data": {
      "text/plain": [
       "{'fit_time': array([5.84678292, 5.6160171 , 5.81876087, 5.66323304, 5.72821116]),\n",
       " 'score_time': array([0.21726918, 0.23369718, 0.22514582, 0.22353101, 0.21408987]),\n",
       " 'test_accuracy': array([0.97212592, 0.97004161, 0.97142857, 0.97572816, 0.97586685]),\n",
       " 'test_average_precision': array([0.99631555, 0.99576442, 0.9960042 , 0.99574032, 0.99597891]),\n",
       " 'test_recall': array([0.97751249, 0.98223209, 0.98223209, 0.98528595, 0.98195447]),\n",
       " 'test_f1': array([0.97224907, 0.9703785 , 0.97171107, 0.9759384 , 0.97599338])}"
      ]
     },
     "execution_count": 27,
     "metadata": {},
     "output_type": "execute_result"
    }
   ],
   "source": [
    "rfc_scores"
   ]
  },
  {
   "cell_type": "code",
   "execution_count": 28,
   "metadata": {},
   "outputs": [
    {
     "data": {
      "text/plain": [
       "RandomForestClassifier(bootstrap=True, ccp_alpha=0.0, class_weight=None,\n",
       "                       criterion='gini', max_depth=None, max_features='auto',\n",
       "                       max_leaf_nodes=None, max_samples=None,\n",
       "                       min_impurity_decrease=0.0, min_impurity_split=None,\n",
       "                       min_samples_leaf=1, min_samples_split=2,\n",
       "                       min_weight_fraction_leaf=0.0, n_estimators=100,\n",
       "                       n_jobs=None, oob_score=False, random_state=None,\n",
       "                       verbose=0, warm_start=False)"
      ]
     },
     "execution_count": 28,
     "metadata": {},
     "output_type": "execute_result"
    }
   ],
   "source": [
    "rfc.fit(X_train, y_train.values.ravel())"
   ]
  },
  {
   "cell_type": "code",
   "execution_count": 31,
   "metadata": {},
   "outputs": [
    {
     "data": {
      "image/png": "[encoded data removed]",
      "text/plain": [
       "<Figure size 288x397.44 with 1 Axes>"
      ]
     },
     "metadata": {
      "needs_background": "light"
     },
     "output_type": "display_data"
    }
   ],
   "source": [
    "importance = rfpimp.importances(rfc, X_train, y_train)\n",
    "rfpimp.plot_importances(importance).save(\"../reports/image/lol-challenger-rfpimp-importances.png\")"
   ]
  },
  {
   "cell_type": "code",
   "execution_count": 32,
   "metadata": {},
   "outputs": [
    {
     "data": {
      "text/plain": [
       "1    26904\n",
       "0    26904\n",
       "Name: Wins, dtype: int64"
      ]
     },
     "execution_count": 32,
     "metadata": {},
     "output_type": "execute_result"
    }
   ],
   "source": [
    "y.value_counts()"
   ]
  },
  {
   "cell_type": "code",
   "execution_count": 33,
   "metadata": {},
   "outputs": [],
   "source": [
    "import pickle"
   ]
  },
  {
   "cell_type": "code",
   "execution_count": 35,
   "metadata": {},
   "outputs": [],
   "source": [
    "pickle.dump(rfc, open(\"../models/lol-challenger-rfc.sav\", 'wb'))"
   ]
  },
  {
   "cell_type": "markdown",
   "metadata": {},
   "source": [
    "## Given stats for a team can you predict whether it won or not?"
   ]
  },
  {
   "cell_type": "markdown",
   "metadata": {},
   "source": [
    "Using the model created above what are its learning metrics"
   ]
  },
  {
   "cell_type": "code",
   "execution_count": 36,
   "metadata": {},
   "outputs": [],
   "source": [
    "y_pred = rfc.predict(X_test)"
   ]
  },
  {
   "cell_type": "code",
   "execution_count": 37,
   "metadata": {},
   "outputs": [
    {
     "data": {
      "text/plain": [
       "0.9754463028664752"
      ]
     },
     "execution_count": 37,
     "metadata": {},
     "output_type": "execute_result"
    }
   ],
   "source": [
    "accuracy_score(y_test, y_pred)"
   ]
  },
  {
   "cell_type": "code",
   "execution_count": 38,
   "metadata": {},
   "outputs": [
    {
     "data": {
      "text/plain": [
       "0.9686391843971631"
      ]
     },
     "execution_count": 38,
     "metadata": {},
     "output_type": "execute_result"
    }
   ],
   "source": [
    "precision_score(y_test, y_pred)"
   ]
  },
  {
   "cell_type": "code",
   "execution_count": 39,
   "metadata": {},
   "outputs": [
    {
     "data": {
      "text/plain": [
       "0.9827973914998875"
      ]
     },
     "execution_count": 39,
     "metadata": {},
     "output_type": "execute_result"
    }
   ],
   "source": [
    "recall_score(y_test, y_pred)"
   ]
  },
  {
   "cell_type": "code",
   "execution_count": 40,
   "metadata": {},
   "outputs": [
    {
     "data": {
      "text/plain": [
       "0.9756669271124009"
      ]
     },
     "execution_count": 40,
     "metadata": {},
     "output_type": "execute_result"
    }
   ],
   "source": [
    "f1_score(y_test, y_pred)"
   ]
  },
  {
   "cell_type": "markdown",
   "metadata": {},
   "source": [
    "## What are the differences in the above between Challengers, Masters and Grand Masters?"
   ]
  },
  {
   "cell_type": "code",
   "execution_count": 41,
   "metadata": {},
   "outputs": [],
   "source": [
    "def genRFCModel(df,imp_file,model_file):\n",
    "    X = df.drop([\"Wins\",\"Colour\", \"Unnamed: 0\"], axis=1)\n",
    "    y = df[\"Wins\"]\n",
    "    \n",
    "    X_train, X_test, y_train, y_test = train_test_split(X, y, test_size=0.33, random_state=42)\n",
    "    \n",
    "    rfc = RandomForestClassifier()\n",
    "    rfc_scores = cross_validate(rfc, X_train, y_train.values.ravel(), cv=5, scoring=('accuracy', 'average_precision', 'recall', 'f1'))\n",
    "    \n",
    "    print(rfc_scores)\n",
    "    \n",
    "    rfc.fit(X_train, y_train.values.ravel())\n",
    "    \n",
    "    importance = rfpimp.importances(rfc, X_train, y_train)\n",
    "    rfpimp.plot_importances(importance).save(imp_file)\n",
    "    \n",
    "    pickle.dump(rfc, open(model_file, 'wb'))\n",
    "    \n",
    "    y_pred = rfc.predict(X_test)\n",
    "    \n",
    "    print(\"Accuracy: {}\\n\".format(accuracy_score(y_test, y_pred)))\n",
    "    print(\"Precision: {}\\n\".format(precision_score(y_test, y_pred)))\n",
    "    print(\"Recall: {}\\n\".format(recall_score(y_test, y_pred)))\n",
    "    print(\"F1: {}\\n\".format(f1_score(y_test, y_pred)))\n",
    "    \n",
    "    return rfc"
   ]
  },
  {
   "cell_type": "code",
   "execution_count": 44,
   "metadata": {},
   "outputs": [
    {
     "name": "stderr",
     "output_type": "stream",
     "text": [
      "/Users/iainmiller/opt/anaconda3/lib/python3.7/site-packages/IPython/core/interactiveshell.py:3063: DtypeWarning: Columns (27) have mixed types.Specify dtype option on import or set low_memory=False.\n",
      "  interactivity=interactivity, compiler=compiler, result=result)\n"
     ]
    },
    {
     "name": "stdout",
     "output_type": "stream",
     "text": [
      "{'fit_time': array([29.8034749 , 30.27217197, 29.43843389, 29.49908996, 29.35111594]), 'score_time': array([1.35246205, 1.197299  , 1.19861507, 1.18941903, 1.21009421]), 'test_accuracy': array([0.97460815, 0.97425984, 0.97457243, 0.97478143, 0.97377129]), 'test_average_precision': array([0.99669913, 0.99638059, 0.9963578 , 0.99618882, 0.99607014]), 'test_recall': array([0.97873819, 0.98123958, 0.98089083, 0.98089083, 0.9822111 ]), 'test_f1': array([0.97477596, 0.97450229, 0.97479456, 0.97499655, 0.97405506])}\n",
      "Accuracy: 0.9745838224686364\n",
      "\n",
      "Precision: 0.9687596572552325\n",
      "\n",
      "Recall: 0.9805220655141037\n",
      "\n",
      "F1: 0.97460537286435\n",
      "\n"
     ]
    },
    {
     "data": {
      "image/png": "[encoded data removed]",
      "text/plain": [
       "<Figure size 288x397.44 with 1 Axes>"
      ]
     },
     "metadata": {
      "needs_background": "light"
     },
     "output_type": "display_data"
    }
   ],
   "source": [
    "smf = pd.read_csv(\"../data/stacked_master_stats.csv\")\n",
    "rfc_master = genRFCModel(smf, \"../reports/image/lol-master-rfpimp-importance.png\", \"../models/lol-master-rfc.sav\")"
   ]
  },
  {
   "cell_type": "code",
   "execution_count": 45,
   "metadata": {},
   "outputs": [
    {
     "name": "stderr",
     "output_type": "stream",
     "text": [
      "/Users/iainmiller/opt/anaconda3/lib/python3.7/site-packages/IPython/core/interactiveshell.py:3063: DtypeWarning: Columns (27) have mixed types.Specify dtype option on import or set low_memory=False.\n",
      "  interactivity=interactivity, compiler=compiler, result=result)\n"
     ]
    },
    {
     "name": "stdout",
     "output_type": "stream",
     "text": [
      "{'fit_time': array([31.45078397, 31.89958191, 31.01685691, 29.70818591, 29.40541911]), 'score_time': array([1.22136712, 1.19108605, 1.20420289, 1.185462  , 1.19124293]), 'test_accuracy': array([0.97495646, 0.97429467, 0.97467693, 0.97398028, 0.97377129]), 'test_average_precision': array([0.99664339, 0.99646599, 0.99632183, 0.9959434 , 0.99615314]), 'test_recall': array([0.97839077, 0.9807532 , 0.98102981, 0.97998749, 0.9816552 ]), 'test_f1': array([0.97510474, 0.97452361, 0.97489901, 0.97419956, 0.97404075])}\n",
      "Accuracy: 0.9743009490403519\n",
      "\n",
      "Precision: 0.9689266331093052\n",
      "\n",
      "Recall: 0.97975432211101\n",
      "\n",
      "F1: 0.9743103960186063\n",
      "\n"
     ]
    },
    {
     "data": {
      "image/png": "[encoded data removed]",
      "text/plain": [
       "<Figure size 288x397.44 with 1 Axes>"
      ]
     },
     "metadata": {
      "needs_background": "light"
     },
     "output_type": "display_data"
    }
   ],
   "source": [
    "sgmf = pd.read_csv(\"../data/stacked_grandmaster_stats.csv\")\n",
    "rfc_grandmaster = genRFCModel(smf, \"../reports/image/lol-grandmaster-rfpimp-importance.png\", \"../models/lol-grandmaster-rfc.sav\")"
   ]
  },
  {
   "cell_type": "code",
   "execution_count": 48,
   "metadata": {},
   "outputs": [
    {
     "data": {
      "text/plain": [
       "Index(['Unnamed: 0', 'gameId', 'gameDuraton', 'Wins', 'FirstBlood',\n",
       "       'FirstTower', 'FirstBaron', 'FirstDragon', 'FirstInhibitor',\n",
       "       'DragonKills', 'BaronKills', 'TowerKills', 'InhibitorKills',\n",
       "       'WardPlaced', 'Wardkills', 'Assist', 'ChampionDamageDealt', 'TotalGold',\n",
       "       'TotalMinionKills', 'TotalLevel', 'AvgLevel', 'JungleMinionKills',\n",
       "       'KillingSpree', 'TotalHeal', 'ObjectDamageDealt', 'Colour'],\n",
       "      dtype='object')"
      ]
     },
     "execution_count": 48,
     "metadata": {},
     "output_type": "execute_result"
    }
   ],
   "source": [
    "df_chal_noDK = df.drop([\"Death\", \"Kills\"], axis=1)\n",
    "df_chal_noDK.columns"
   ]
  },
  {
   "cell_type": "code",
   "execution_count": 49,
   "metadata": {},
   "outputs": [
    {
     "name": "stdout",
     "output_type": "stream",
     "text": [
      "{'fit_time': array([5.36312699, 5.09152985, 5.23260593, 5.30483699, 5.32610726]), 'score_time': array([0.24992704, 0.25719619, 0.25197387, 0.26682496, 0.2708919 ]), 'test_accuracy': array([0.96186382, 0.95395284, 0.96033287, 0.96102635, 0.95852982]), 'test_average_precision': array([0.99121159, 0.98977295, 0.99119192, 0.99244987, 0.99224274]), 'test_recall': array([0.96529706, 0.96529706, 0.96862854, 0.97029428, 0.96557468]), 'test_f1': array([0.96195878, 0.95443316, 0.96062775, 0.96135332, 0.95878704])}\n",
      "Accuracy: 0.9611984006307371\n",
      "\n",
      "Precision: 0.9550748752079867\n",
      "\n",
      "Recall: 0.9680683606926017\n",
      "\n",
      "F1: 0.9615277234909821\n",
      "\n"
     ]
    },
    {
     "data": {
      "image/png": "[encoded data removed]",
      "text/plain": [
       "<Figure size 288x365.76 with 1 Axes>"
      ]
     },
     "metadata": {
      "needs_background": "light"
     },
     "output_type": "display_data"
    }
   ],
   "source": [
    "rfc_chal_noDK = genRFCModel(df_chal_noDK, \"../reports/image/lol-challenger-noDK-rfpimp-importance.png\", \"../models/lol-challenger-noDK-rfc.sav\")"
   ]
  },
  {
   "cell_type": "code",
   "execution_count": 50,
   "metadata": {},
   "outputs": [],
   "source": [
    " df_mast_noDK = smf.drop([\"Death\", \"Kills\"], axis=1)"
   ]
  },
  {
   "cell_type": "code",
   "execution_count": 51,
   "metadata": {},
   "outputs": [
    {
     "name": "stdout",
     "output_type": "stream",
     "text": [
      "{'fit_time': array([27.32085299, 27.79908729, 26.12259984, 26.96678591, 25.707371  ]), 'score_time': array([1.40603709, 1.36383677, 1.40413594, 1.33910298, 1.33489299]), 'test_accuracy': array([0.96374086, 0.96238245, 0.96286879, 0.96300812, 0.96175415]), 'test_average_precision': array([0.99336704, 0.99225391, 0.99252191, 0.99221405, 0.99222836]), 'test_recall': array([0.96789883, 0.96824625, 0.9696338 , 0.97109304, 0.97046765]), 'test_f1': array([0.96398049, 0.9626943 , 0.96320839, 0.96339446, 0.96217706])}\n",
      "Accuracy: 0.9623636903667454\n",
      "\n",
      "Precision: 0.9564179607424672\n",
      "\n",
      "Recall: 0.9684656505914467\n",
      "\n",
      "F1: 0.9624041029118805\n",
      "\n"
     ]
    },
    {
     "data": {
      "image/png": "[encoded data removed]",
      "text/plain": [
       "<Figure size 288x365.76 with 1 Axes>"
      ]
     },
     "metadata": {
      "needs_background": "light"
     },
     "output_type": "display_data"
    }
   ],
   "source": [
    "rfc_mast_noDK = genRFCModel(df_mast_noDK, \"../reports/image/lol-master-noDK-rfpimp-importance.png\", \"../models/lol-master-noDK-rfc.sav\")"
   ]
  },
  {
   "cell_type": "code",
   "execution_count": 52,
   "metadata": {},
   "outputs": [],
   "source": [
    "df_grand_noDK = sgmf.drop([\"Death\", \"Kills\"], axis=1)"
   ]
  },
  {
   "cell_type": "code",
   "execution_count": 53,
   "metadata": {},
   "outputs": [
    {
     "name": "stdout",
     "output_type": "stream",
     "text": [
      "{'fit_time': array([15.70299387, 15.34597397, 16.00373507, 16.208745  , 14.93144703]), 'score_time': array([0.76437306, 0.83869529, 0.77450871, 0.79249024, 0.78476787]), 'test_accuracy': array([0.96177803, 0.96279728, 0.96177803, 0.96121178, 0.96070215]), 'test_average_precision': array([0.9915243 , 0.99221079, 0.99132817, 0.9920691 , 0.99206344]), 'test_recall': array([0.96687089, 0.97005105, 0.97005105, 0.96948383, 0.9659671 ]), 'test_f1': array([0.9619053 , 0.96300467, 0.96202959, 0.96146706, 0.96084405])}\n",
      "Accuracy: 0.9623379012232135\n",
      "\n",
      "Precision: 0.9579778544200399\n",
      "\n",
      "Recall: 0.967372376500779\n",
      "\n",
      "F1: 0.9626521957225592\n",
      "\n"
     ]
    },
    {
     "data": {
      "image/png": "[encoded data removed]",
      "text/plain": [
       "<Figure size 288x365.76 with 1 Axes>"
      ]
     },
     "metadata": {
      "needs_background": "light"
     },
     "output_type": "display_data"
    }
   ],
   "source": [
    "rfc_grand_noDK = genRFCModel(df_grand_noDK, \"../reports/image/lol-grandmaster-noDK-rfpimp-importance.png\", \"../models/lol-grandmaster-noDK-rfc.sav\")"
   ]
  },
  {
   "cell_type": "code",
   "execution_count": 59,
   "metadata": {},
   "outputs": [],
   "source": [
    "def getPredStats(model,df,rowname):\n",
    "    X = df.drop([\"Wins\",\"Colour\", \"Unnamed: 0\"], axis=1)\n",
    "    y = df[\"Wins\"]\n",
    "    \n",
    "    X_train, X_test, y_train, y_test = train_test_split(X, y, test_size=0.01, random_state=42)\n",
    "        \n",
    "    y_pred = rfc.predict(X_test)\n",
    "    \n",
    "    print(\"Accuracy: {}\\n\".format(accuracy_score(y_test, y_pred)))\n",
    "    print(\"Precision: {}\\n\".format(precision_score(y_test, y_pred)))\n",
    "    print(\"Recall: {}\\n\".format(recall_score(y_test, y_pred)))\n",
    "    print(\"F1: {}\\n\".format(f1_score(y_test, y_pred)))\n",
    "    \n",
    "    print(\"| {} | {} | {} | {} | {} |\\n\".format(rowname, accuracy_score(y_test, y_pred), \n",
    "                                               precision_score(y_test, y_pred),\n",
    "                                                recall_score(y_test, y_pred),\n",
    "                                               f1_score(y_test, y_pred)))"
   ]
  },
  {
   "cell_type": "code",
   "execution_count": 60,
   "metadata": {},
   "outputs": [
    {
     "ename": "ValueError",
     "evalue": "Number of features of the model must match the input. Model n_features is 25 and input n_features is 23 ",
     "output_type": "error",
     "traceback": [
      "\u001b[0;31m---------------------------------------------------------------------------\u001b[0m",
      "\u001b[0;31mValueError\u001b[0m                                Traceback (most recent call last)",
      "\u001b[0;32m<ipython-input-60-d892762b8286>\u001b[0m in \u001b[0;36m<module>\u001b[0;34m\u001b[0m\n\u001b[0;32m----> 1\u001b[0;31m \u001b[0mgetPredStats\u001b[0m\u001b[0;34m(\u001b[0m\u001b[0mrfc_chal_noDK\u001b[0m\u001b[0;34m,\u001b[0m \u001b[0mdf_mast_noDK\u001b[0m\u001b[0;34m,\u001b[0m \u001b[0;34m\"C to M\"\u001b[0m\u001b[0;34m)\u001b[0m\u001b[0;34m\u001b[0m\u001b[0;34m\u001b[0m\u001b[0m\n\u001b[0m",
      "\u001b[0;32m<ipython-input-59-b1c4b440311c>\u001b[0m in \u001b[0;36mgetPredStats\u001b[0;34m(model, df, rowname)\u001b[0m\n\u001b[1;32m      5\u001b[0m     \u001b[0mX_train\u001b[0m\u001b[0;34m,\u001b[0m \u001b[0mX_test\u001b[0m\u001b[0;34m,\u001b[0m \u001b[0my_train\u001b[0m\u001b[0;34m,\u001b[0m \u001b[0my_test\u001b[0m \u001b[0;34m=\u001b[0m \u001b[0mtrain_test_split\u001b[0m\u001b[0;34m(\u001b[0m\u001b[0mX\u001b[0m\u001b[0;34m,\u001b[0m \u001b[0my\u001b[0m\u001b[0;34m,\u001b[0m \u001b[0mtest_size\u001b[0m\u001b[0;34m=\u001b[0m\u001b[0;36m0.01\u001b[0m\u001b[0;34m,\u001b[0m \u001b[0mrandom_state\u001b[0m\u001b[0;34m=\u001b[0m\u001b[0;36m42\u001b[0m\u001b[0;34m)\u001b[0m\u001b[0;34m\u001b[0m\u001b[0;34m\u001b[0m\u001b[0m\n\u001b[1;32m      6\u001b[0m \u001b[0;34m\u001b[0m\u001b[0m\n\u001b[0;32m----> 7\u001b[0;31m     \u001b[0my_pred\u001b[0m \u001b[0;34m=\u001b[0m \u001b[0mrfc\u001b[0m\u001b[0;34m.\u001b[0m\u001b[0mpredict\u001b[0m\u001b[0;34m(\u001b[0m\u001b[0mX_test\u001b[0m\u001b[0;34m)\u001b[0m\u001b[0;34m\u001b[0m\u001b[0;34m\u001b[0m\u001b[0m\n\u001b[0m\u001b[1;32m      8\u001b[0m \u001b[0;34m\u001b[0m\u001b[0m\n\u001b[1;32m      9\u001b[0m     \u001b[0mprint\u001b[0m\u001b[0;34m(\u001b[0m\u001b[0;34m\"Accuracy: {}\\n\"\u001b[0m\u001b[0;34m.\u001b[0m\u001b[0mformat\u001b[0m\u001b[0;34m(\u001b[0m\u001b[0maccuracy_score\u001b[0m\u001b[0;34m(\u001b[0m\u001b[0my_test\u001b[0m\u001b[0;34m,\u001b[0m \u001b[0my_pred\u001b[0m\u001b[0;34m)\u001b[0m\u001b[0;34m)\u001b[0m\u001b[0;34m)\u001b[0m\u001b[0;34m\u001b[0m\u001b[0;34m\u001b[0m\u001b[0m\n",
      "\u001b[0;32m~/opt/anaconda3/lib/python3.7/site-packages/sklearn/ensemble/_forest.py\u001b[0m in \u001b[0;36mpredict\u001b[0;34m(self, X)\u001b[0m\n\u001b[1;32m    610\u001b[0m             \u001b[0mThe\u001b[0m \u001b[0mpredicted\u001b[0m \u001b[0mclasses\u001b[0m\u001b[0;34m.\u001b[0m\u001b[0;34m\u001b[0m\u001b[0;34m\u001b[0m\u001b[0m\n\u001b[1;32m    611\u001b[0m         \"\"\"\n\u001b[0;32m--> 612\u001b[0;31m         \u001b[0mproba\u001b[0m \u001b[0;34m=\u001b[0m \u001b[0mself\u001b[0m\u001b[0;34m.\u001b[0m\u001b[0mpredict_proba\u001b[0m\u001b[0;34m(\u001b[0m\u001b[0mX\u001b[0m\u001b[0;34m)\u001b[0m\u001b[0;34m\u001b[0m\u001b[0;34m\u001b[0m\u001b[0m\n\u001b[0m\u001b[1;32m    613\u001b[0m \u001b[0;34m\u001b[0m\u001b[0m\n\u001b[1;32m    614\u001b[0m         \u001b[0;32mif\u001b[0m \u001b[0mself\u001b[0m\u001b[0;34m.\u001b[0m\u001b[0mn_outputs_\u001b[0m \u001b[0;34m==\u001b[0m \u001b[0;36m1\u001b[0m\u001b[0;34m:\u001b[0m\u001b[0;34m\u001b[0m\u001b[0;34m\u001b[0m\u001b[0m\n",
      "\u001b[0;32m~/opt/anaconda3/lib/python3.7/site-packages/sklearn/ensemble/_forest.py\u001b[0m in \u001b[0;36mpredict_proba\u001b[0;34m(self, X)\u001b[0m\n\u001b[1;32m    654\u001b[0m         \u001b[0mcheck_is_fitted\u001b[0m\u001b[0;34m(\u001b[0m\u001b[0mself\u001b[0m\u001b[0;34m)\u001b[0m\u001b[0;34m\u001b[0m\u001b[0;34m\u001b[0m\u001b[0m\n\u001b[1;32m    655\u001b[0m         \u001b[0;31m# Check data\u001b[0m\u001b[0;34m\u001b[0m\u001b[0;34m\u001b[0m\u001b[0;34m\u001b[0m\u001b[0m\n\u001b[0;32m--> 656\u001b[0;31m         \u001b[0mX\u001b[0m \u001b[0;34m=\u001b[0m \u001b[0mself\u001b[0m\u001b[0;34m.\u001b[0m\u001b[0m_validate_X_predict\u001b[0m\u001b[0;34m(\u001b[0m\u001b[0mX\u001b[0m\u001b[0;34m)\u001b[0m\u001b[0;34m\u001b[0m\u001b[0;34m\u001b[0m\u001b[0m\n\u001b[0m\u001b[1;32m    657\u001b[0m \u001b[0;34m\u001b[0m\u001b[0m\n\u001b[1;32m    658\u001b[0m         \u001b[0;31m# Assign chunk of trees to jobs\u001b[0m\u001b[0;34m\u001b[0m\u001b[0;34m\u001b[0m\u001b[0;34m\u001b[0m\u001b[0m\n",
      "\u001b[0;32m~/opt/anaconda3/lib/python3.7/site-packages/sklearn/ensemble/_forest.py\u001b[0m in \u001b[0;36m_validate_X_predict\u001b[0;34m(self, X)\u001b[0m\n\u001b[1;32m    410\u001b[0m         \u001b[0mcheck_is_fitted\u001b[0m\u001b[0;34m(\u001b[0m\u001b[0mself\u001b[0m\u001b[0;34m)\u001b[0m\u001b[0;34m\u001b[0m\u001b[0;34m\u001b[0m\u001b[0m\n\u001b[1;32m    411\u001b[0m \u001b[0;34m\u001b[0m\u001b[0m\n\u001b[0;32m--> 412\u001b[0;31m         \u001b[0;32mreturn\u001b[0m \u001b[0mself\u001b[0m\u001b[0;34m.\u001b[0m\u001b[0mestimators_\u001b[0m\u001b[0;34m[\u001b[0m\u001b[0;36m0\u001b[0m\u001b[0;34m]\u001b[0m\u001b[0;34m.\u001b[0m\u001b[0m_validate_X_predict\u001b[0m\u001b[0;34m(\u001b[0m\u001b[0mX\u001b[0m\u001b[0;34m,\u001b[0m \u001b[0mcheck_input\u001b[0m\u001b[0;34m=\u001b[0m\u001b[0;32mTrue\u001b[0m\u001b[0;34m)\u001b[0m\u001b[0;34m\u001b[0m\u001b[0;34m\u001b[0m\u001b[0m\n\u001b[0m\u001b[1;32m    413\u001b[0m \u001b[0;34m\u001b[0m\u001b[0m\n\u001b[1;32m    414\u001b[0m     \u001b[0;34m@\u001b[0m\u001b[0mproperty\u001b[0m\u001b[0;34m\u001b[0m\u001b[0;34m\u001b[0m\u001b[0m\n",
      "\u001b[0;32m~/opt/anaconda3/lib/python3.7/site-packages/sklearn/tree/_classes.py\u001b[0m in \u001b[0;36m_validate_X_predict\u001b[0;34m(self, X, check_input)\u001b[0m\n\u001b[1;32m    389\u001b[0m                              \u001b[0;34m\"match the input. Model n_features is %s and \"\u001b[0m\u001b[0;34m\u001b[0m\u001b[0;34m\u001b[0m\u001b[0m\n\u001b[1;32m    390\u001b[0m                              \u001b[0;34m\"input n_features is %s \"\u001b[0m\u001b[0;34m\u001b[0m\u001b[0;34m\u001b[0m\u001b[0m\n\u001b[0;32m--> 391\u001b[0;31m                              % (self.n_features_, n_features))\n\u001b[0m\u001b[1;32m    392\u001b[0m \u001b[0;34m\u001b[0m\u001b[0m\n\u001b[1;32m    393\u001b[0m         \u001b[0;32mreturn\u001b[0m \u001b[0mX\u001b[0m\u001b[0;34m\u001b[0m\u001b[0;34m\u001b[0m\u001b[0m\n",
      "\u001b[0;31mValueError\u001b[0m: Number of features of the model must match the input. Model n_features is 25 and input n_features is 23 "
     ]
    }
   ],
   "source": [
    "getPredStats(rfc_chal_noDK, df_mast_noDK, \"C to M\")"
   ]
  },
  {
   "cell_type": "code",
   "execution_count": 56,
   "metadata": {},
   "outputs": [
    {
     "name": "stdout",
     "output_type": "stream",
     "text": [
      "(53808, 26)\n",
      "(214250, 26)\n",
      "(131792, 26)\n"
     ]
    }
   ],
   "source": [
    "print(df_chal_noDK.shape)\n",
    "print(df_mast_noDK.shape)\n",
    "print(df_grand_noDK.shape)"
   ]
  },
  {
   "cell_type": "code",
   "execution_count": null,
   "metadata": {},
   "outputs": [],
   "source": []
  }
 ],
 "metadata": {
  "kernelspec": {
   "display_name": "Python 3",
   "language": "python",
   "name": "python3"
  },
  "language_info": {
   "codemirror_mode": {
    "name": "ipython",
    "version": 3
   },
   "file_extension": ".py",
   "mimetype": "text/x-python",
   "name": "python",
   "nbconvert_exporter": "python",
   "pygments_lexer": "ipython3",
   "version": "3.7.6"
  }
 },
 "nbformat": 4,
 "nbformat_minor": 4
}
