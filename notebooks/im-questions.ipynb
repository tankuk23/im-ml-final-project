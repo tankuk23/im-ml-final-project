{
 "cells": [
  {
   "cell_type": "markdown",
   "metadata": {},
   "source": [
    "# Initial Questions to Answer"
   ]
  },
  {
   "cell_type": "markdown",
   "metadata": {},
   "source": [
    "This notebook denotes the questions that will be aimed to be answered and where appropriate a Hypothesis for what the data will show."
   ]
  },
  {
   "cell_type": "markdown",
   "metadata": {},
   "source": [
    "## Simple Questions"
   ]
  },
  {
   "cell_type": "markdown",
   "metadata": {},
   "source": [
    "1. Does the colour of the team make any difference to win chances? Hypothesis: No, there should be no difference depending on which colour is assigned\n",
    "2. Is there a correlation between Gold earned and winning? Hypothesis: Yes, if you win you should get more gold\n",
    "3. Do Games between Grand Masters run longer than Master and then Challenger games? Hypothesis: The higher the ability the longer the games last"
   ]
  },
  {
   "cell_type": "markdown",
   "metadata": {},
   "source": [
    "## More Complex Questions"
   ]
  },
  {
   "cell_type": "markdown",
   "metadata": {},
   "source": [
    "4. Is there a particular element that leads to more wins?\n",
    "5. Given stats for a team can you predict whether it won or not?\n",
    "6. What are the differences in the above between Challengers, Masters and Grand Masters?"
   ]
  },
  {
   "cell_type": "code",
   "execution_count": null,
   "metadata": {},
   "outputs": [],
   "source": []
  }
 ],
 "metadata": {
  "kernelspec": {
   "display_name": "Python 3",
   "language": "python",
   "name": "python3"
  },
  "language_info": {
   "codemirror_mode": {
    "name": "ipython",
    "version": 3
   },
   "file_extension": ".py",
   "mimetype": "text/x-python",
   "name": "python",
   "nbconvert_exporter": "python",
   "pygments_lexer": "ipython3",
   "version": "3.7.6"
  }
 },
 "nbformat": 4,
 "nbformat_minor": 4
}
